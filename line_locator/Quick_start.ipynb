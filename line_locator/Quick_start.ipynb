{
 "cells": [
  {
   "cell_type": "markdown",
   "metadata": {},
   "source": [
    "# Quick start\n",
    "This is a quick start guide for CoEdPilit-generator\n",
    "\n",
    "⚠️ Please setup the environment called `coedpilot` as described in the [README.md](../README.md) in Getting Started section."
   ]
  },
  {
   "cell_type": "markdown",
   "metadata": {},
   "source": [
    "## Input:\n",
    "* `code_window`: list[str], the code window, each str represents one line of code, of $L$ lines in total;\n",
    "* `prompt`: str, the edit description;\n",
    "* `prior_edits`: list[dict], the prior edits, each edit dict contains:\n",
    "    * `code_before`: list[str], the lins of code before edit;\n",
    "    * `code_after`: list[str], the lins of code after edit;\n",
    "* `lang`: str, the programming language of the code window.\n",
    "\n",
    "## Output:\n",
    "* `edit_labels`: list[str], each str represent one edit operation for corresponding line of code, of $L$ lines in total."
   ]
  },
  {
   "cell_type": "code",
   "execution_count": 1,
   "metadata": {},
   "outputs": [
    {
     "name": "stdout",
     "output_type": "stream",
     "text": [
      "Cloning models for 'python' to model/python/locator_model.bin...\n",
      "locator_model.bin downloaded.\n",
      "All models for python is ready.\n"
     ]
    },
    {
     "name": "stderr",
     "output_type": "stream",
     "text": [
      "100%|██████████| 1/1 [00:00<00:00, 338.20it/s]\n"
     ]
    },
    {
     "data": {
      "text/plain": [
       "['keep', 'keep', 'keep', 'add', 'keep', 'keep', 'keep', 'keep', 'keep']"
      ]
     },
     "execution_count": 1,
     "metadata": {},
     "output_type": "execute_result"
    }
   ],
   "source": [
    "from Quick_start_api import line_locator_api\n",
    "\n",
    "code_window = [\n",
    "    \"            self._logs_dir,\",\n",
    "    \"            stdout_file=stdout_file,\",\n",
    "    \"            autoscaling_config=self._ray_params.autoscaling_config,\",\n",
    "    \"            redis_password=self._ray_params.redis_password,\",\n",
    "    \"            fate_share=self.kernel_fate_share,\",\n",
    "    \"            max_bytes=self.max_bytes,\",\n",
    "    \"            backup_count=self.backup_count,\",\n",
    "    \"            monitor_ip=self._node_ip_address,\",\n",
    "    \"        )\",\n",
    "]\n",
    "prompt = \"Remove dead redis_address and redis_password (#29788)\\n\\nSome redis_address and redis_password related code are dead given Ray is redisless now.\"\n",
    "prior_edits = [\n",
    "    {\n",
    "        \"code_before\": [\"            self.redis_address,\"],\n",
    "        \"code_after\" : []\n",
    "    },\n",
    "    {\n",
    "        \"code_before\": \n",
    "        [\n",
    "            \"    if redis_password:\\n\",\n",
    "            \"        command.append(\\\"--redis-password=\\\" + redis_password)\"\n",
    "        ],\n",
    "        \"code_after\" : []\n",
    "    }\n",
    "]\n",
    "language = \"python\"\n",
    "line_locator_api(code_window, prompt, prior_edits, language)"
   ]
  },
  {
   "cell_type": "markdown",
   "metadata": {},
   "source": []
  }
 ],
 "metadata": {
  "kernelspec": {
   "display_name": "coedpilot",
   "language": "python",
   "name": "python3"
  },
  "language_info": {
   "codemirror_mode": {
    "name": "ipython",
    "version": 3
   },
   "file_extension": ".py",
   "mimetype": "text/x-python",
   "name": "python",
   "nbconvert_exporter": "python",
   "pygments_lexer": "ipython3",
   "version": "3.10.13"
  }
 },
 "nbformat": 4,
 "nbformat_minor": 2
}
