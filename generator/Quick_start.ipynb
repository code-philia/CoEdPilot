{
 "cells": [
  {
   "cell_type": "markdown",
   "metadata": {},
   "source": [
    "# Quick start\n",
    "This is a quick start guide for CoEdPilit-generator\n",
    "\n",
    "## Input:\n",
    "* `code_window`: list[str], the code window, each str represents one line of code, of $L$ lines in total;\n",
    "* `edit_labels`: list[str], each str represent one edit operation for corresponding line of code, of $L$ lines in total;\n",
    "* `prompt`: str, the edit description;\n",
    "* `prior_edits`: list[dict], the prior edits, each edit dict contains:\n",
    "    * `code_before`: list[str], the lines of code before edit;\n",
    "    * `code_after`: list[str], the lines of code after edit;\n",
    "* `lang`: str, the programming language of the code window.\n",
    "\n",
    "## Output:\n",
    "* `candidates`: list[str], each str represent one generated code candidate, of $K$ candidates in total. If `replace` in `edit_labels`, the code candidate can replace lines of code with `replace` label. If `add` in `edit_labels`, the code candidate can insert after line of code with `add` label."
   ]
  },
  {
   "cell_type": "code",
   "execution_count": null,
   "metadata": {},
   "outputs": [
    {
     "name": "stderr",
     "output_type": "stream",
     "text": [
      "/Users/bytedance/miniconda3/envs/code-edit/lib/python3.10/site-packages/tqdm/auto.py:21: TqdmWarning: IProgress not found. Please update jupyter and ipywidgets. See https://ipywidgets.readthedocs.io/en/stable/user_install.html\n",
      "  from .autonotebook import tqdm as notebook_tqdm\n"
     ]
    },
    {
     "data": {
      "text/plain": [
       "['ipAddr := config.dhcpServer.FindIPbyMAC(mac)',\n",
       " 'ipAddr := config.dhcpServer.FindIP byMAC(mac)',\n",
       " 'ipAddr := config.dhcpServer.FindIPByMAC(mac)',\n",
       " 'ipAddr := config.dhcpServer.FindIPbyMAC( mac)',\n",
       " 'ipsipAddr := config.dhcpServer.FindIPbyMAC(mac)',\n",
       " 'ipAddr := config.dhcpServer.findIPbyMAC(mac)',\n",
       " 'ipAddr := config.dhcpServer. FindIPbyMAC(mac)',\n",
       " 'ipAddr := config.dhcpServer.FindIPby MAC(mac)',\n",
       " 'ipAddr := config.dhcpServer.FindIPbyMAC(Mac)',\n",
       " 'ipAddr := config.dhcpServer.FindIPbyMAC(mac)\\n']"
      ]
     },
     "execution_count": 1,
     "metadata": {},
     "output_type": "execute_result"
    }
   ],
   "source": [
    "from Quick_start_api import generator_api\n",
    "\n",
    "code_window = [\n",
    "    \"mac, err := net.ParseMAC(c.MAC)\",\n",
    "    \"if err != nil {\",\n",
    "    \"    continue\",\n",
    "    \"}\",\n",
    "    \"ipAddr := dhcpServer.FindIPbyMAC(mac)\",\n",
    "    \"if ipAddr == nil {\",\n",
    "    \"    continue\",\n",
    "    \"}\",\n",
    "    \"if ip == ipAddr.String() {\",\n",
    "    \"    return *c, true\",\n",
    "]\n",
    "edit_labels = [ \"keep\", \"keep\", \"keep\", \"keep\", \"replace\", \"keep\", \"keep\", \"keep\", \"keep\", \"keep\" ]\n",
    "prompt = \"* move \\\"dhcpServer\\\" to \\\"config\\\"\"\n",
    "prior_edits = [\n",
    "    {\n",
    "        \"code_before\": [\"ipAddr := dhcpServer.FindIPbyMAC(hwAddr)\"],\n",
    "        \"code_after\" : [\"ipAddr := config.dhcpServer.FindIPbyMAC(hwAddr)\"]\n",
    "    },\n",
    "    {\n",
    "        \"code_before\": [\"err := dhcpServer.Stop()\"],\n",
    "        \"code_after\" : [\"err := config.dhcpServer.Stop()\"]\n",
    "    },\n",
    "    {\n",
    "        \"code_before\": [],\n",
    "        \"code_after\" : [\"err = config.dhcpServer.Start()\"]\n",
    "    }\n",
    "]\n",
    "language = \"go\"\n",
    "generator_api(code_window, edit_labels, prompt, prior_edits, language)"
   ]
  }
 ],
 "metadata": {
  "kernelspec": {
   "display_name": "code-edit",
   "language": "python",
   "name": "python3"
  },
  "language_info": {
   "codemirror_mode": {
    "name": "ipython",
    "version": 3
   },
   "file_extension": ".py",
   "mimetype": "text/x-python",
   "name": "python",
   "nbconvert_exporter": "python",
   "pygments_lexer": "ipython3",
   "version": "3.10.13"
  }
 },
 "nbformat": 4,
 "nbformat_minor": 2
}
